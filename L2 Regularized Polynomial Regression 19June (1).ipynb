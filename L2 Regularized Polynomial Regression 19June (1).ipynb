{
 "cells": [
  {
   "cell_type": "code",
   "execution_count": 43,
   "metadata": {},
   "outputs": [],
   "source": [
    "import numpy as np\n",
    "import matplotlib.pyplot as plt\n",
    "import math\n",
    "from scipy.stats import distributions as dist\n",
    "import random\n",
    "import pandas as pd\n",
    "from sklearn.preprocessing import scale\n",
    "\n"
   ]
  },
  {
   "cell_type": "code",
   "execution_count": 2,
   "metadata": {},
   "outputs": [],
   "source": [
    "def designMat(x):\n",
    "    n = len(x)\n",
    "    X = np.c_[np.ones(n), x, x**2, x**3, x**4,x**5, x**6]\n",
    "    return(X)"
   ]
  },
  {
   "cell_type": "code",
   "execution_count": 35,
   "metadata": {},
   "outputs": [],
   "source": [
    "def RidgeLS(X, Y ,λ):\n",
    "    I = np.eye(7)\n",
    "    I[0,0] = 0\n",
    "    theta = np.linalg.inv((X.T.dot(X) + λ * I)).dot(X.T).dot(Y)\n",
    "    return(theta)"
   ]
  },
  {
   "cell_type": "code",
   "execution_count": 36,
   "metadata": {},
   "outputs": [],
   "source": [
    "n = 200\n",
    "random.seed(123)\n",
    "x = np.random.uniform(0,300,n)\n",
    "x = x[np.argsort(x)]\n",
    "y = 5 + x**1 + x**2 + x**3\n"
   ]
  },
  {
   "cell_type": "code",
   "execution_count": 37,
   "metadata": {},
   "outputs": [],
   "source": [
    "random.seed(123)\n",
    "y_obs = y + np.random.normal(0,900000, n)\n",
    "\n",
    "x_train = x[x < 200]\n",
    "x_test = x[x >= 200]\n",
    "\n",
    "y_train = y_obs[x < 200]\n",
    "y_test = y_obs[x >= 200]\n",
    "\n",
    "n_train = len(x_train)\n",
    "n_test = len(x_test)\n",
    "\n"
   ]
  },
  {
   "cell_type": "code",
   "execution_count": 38,
   "metadata": {},
   "outputs": [],
   "source": [
    "x_train = designMat(x_train)\n",
    "x_test = designMat(x_test)"
   ]
  },
  {
   "cell_type": "code",
   "execution_count": 39,
   "metadata": {},
   "outputs": [],
   "source": [
    "testMSE = [] \n",
    "\n",
    "for λ in [0, 0.5, 10, 20, 30, 80, 100, 200]:\n",
    "    \n",
    "    theta = RidgeLS(x_train, y_train, λ)\n",
    "    y_pred = theta[0]*x_test[:,0] + theta[1]*x_test[:,1] + theta[2]*x_test[:,2] + theta[3]*x_test[:,3] + theta[4]*x_test[:,4] + \\\n",
    "             theta[5]*x_test[:,5] + theta[6]*x_test[:,6] \n",
    "    mse = 1/(2*n)*np.sum(y_test - y_pred)**2\n",
    "    testMSE.append(mse)"
   ]
  },
  {
   "cell_type": "code",
   "execution_count": 41,
   "metadata": {},
   "outputs": [],
   "source": [
    "trainMSE = [] \n",
    "\n",
    "lambdas = [0, 0.5, 10, 20, 30, 80, 100, 200]\n",
    "\n",
    "for λ in lambdas:\n",
    "    \n",
    "    theta = RidgeLS(x_train, y_train, λ)\n",
    "    y_pred = theta[0]*x_train[:,0] + theta[1]*x_train[:,1] + theta[2]*x_train[:,2] + theta[3]*x_train[:,3] + theta[4]*x_train[:,4] + \\\n",
    "             theta[5]*x_train[:,5] + theta[6]*x_train[:,6] \n",
    "    mse = 1/(2*n)*np.sum(y_train - y_pred)**2\n",
    "    trainMSE.append(mse)"
   ]
  },
  {
   "cell_type": "code",
   "execution_count": 61,
   "metadata": {},
   "outputs": [
    {
     "data": {
      "text/html": [
       "<div>\n",
       "<style scoped>\n",
       "    .dataframe tbody tr th:only-of-type {\n",
       "        vertical-align: middle;\n",
       "    }\n",
       "\n",
       "    .dataframe tbody tr th {\n",
       "        vertical-align: top;\n",
       "    }\n",
       "\n",
       "    .dataframe thead th {\n",
       "        text-align: right;\n",
       "    }\n",
       "</style>\n",
       "<table border=\"1\" class=\"dataframe\">\n",
       "  <thead>\n",
       "    <tr style=\"text-align: right;\">\n",
       "      <th></th>\n",
       "      <th>lambdas</th>\n",
       "      <th>trainMSE</th>\n",
       "      <th>testMSE</th>\n",
       "      <th>Maximum</th>\n",
       "    </tr>\n",
       "  </thead>\n",
       "  <tbody>\n",
       "    <tr>\n",
       "      <th>0</th>\n",
       "      <td>0.0</td>\n",
       "      <td>-0.544693</td>\n",
       "      <td>1.060231</td>\n",
       "      <td>1.060231</td>\n",
       "    </tr>\n",
       "    <tr>\n",
       "      <th>1</th>\n",
       "      <td>0.5</td>\n",
       "      <td>2.438494</td>\n",
       "      <td>1.043742</td>\n",
       "      <td>2.438494</td>\n",
       "    </tr>\n",
       "    <tr>\n",
       "      <th>2</th>\n",
       "      <td>10.0</td>\n",
       "      <td>-0.429755</td>\n",
       "      <td>0.748893</td>\n",
       "      <td>0.748893</td>\n",
       "    </tr>\n",
       "    <tr>\n",
       "      <th>3</th>\n",
       "      <td>20.0</td>\n",
       "      <td>-0.374109</td>\n",
       "      <td>0.472192</td>\n",
       "      <td>0.472192</td>\n",
       "    </tr>\n",
       "    <tr>\n",
       "      <th>4</th>\n",
       "      <td>30.0</td>\n",
       "      <td>-0.587213</td>\n",
       "      <td>0.224679</td>\n",
       "      <td>0.224679</td>\n",
       "    </tr>\n",
       "    <tr>\n",
       "      <th>5</th>\n",
       "      <td>80.0</td>\n",
       "      <td>-0.546304</td>\n",
       "      <td>-0.702610</td>\n",
       "      <td>-0.546304</td>\n",
       "    </tr>\n",
       "    <tr>\n",
       "      <th>6</th>\n",
       "      <td>100.0</td>\n",
       "      <td>0.649560</td>\n",
       "      <td>-0.973287</td>\n",
       "      <td>0.649560</td>\n",
       "    </tr>\n",
       "    <tr>\n",
       "      <th>7</th>\n",
       "      <td>200.0</td>\n",
       "      <td>-0.605980</td>\n",
       "      <td>-1.873840</td>\n",
       "      <td>-0.605980</td>\n",
       "    </tr>\n",
       "  </tbody>\n",
       "</table>\n",
       "</div>"
      ],
      "text/plain": [
       "   lambdas  trainMSE   testMSE   Maximum\n",
       "0      0.0 -0.544693  1.060231  1.060231\n",
       "1      0.5  2.438494  1.043742  2.438494\n",
       "2     10.0 -0.429755  0.748893  0.748893\n",
       "3     20.0 -0.374109  0.472192  0.472192\n",
       "4     30.0 -0.587213  0.224679  0.224679\n",
       "5     80.0 -0.546304 -0.702610 -0.546304\n",
       "6    100.0  0.649560 -0.973287  0.649560\n",
       "7    200.0 -0.605980 -1.873840 -0.605980"
      ]
     },
     "execution_count": 61,
     "metadata": {},
     "output_type": "execute_result"
    }
   ],
   "source": [
    "testMSE = scale(testMSE)\n",
    "trainMSE = scale(trainMSE)\n",
    "Lambdas = scale([0, 0.5, 10, 20, 30, 80, 100, 200]) \n",
    "lambdas = [0, 0.5, 10, 20, 30, 80, 100, 200] \n",
    "\n",
    "\n",
    "table = {'lambdas': lambdas,\n",
    "        'trainMSE':trainMSE,\n",
    "        'testMSE':testMSE} \n",
    "\n",
    "dataFrame = pd.DataFrame(table) \n",
    "\n",
    "dataFrame['Maximum'] = dataFrame[['testMSE','trainMSE']].max(axis=1)\n",
    "dataFrame"
   ]
  },
  {
   "cell_type": "markdown",
   "metadata": {},
   "source": [
    "As can be observed in the above table the maximum is at lambda= 0.50 and this can be calculated as follows:"
   ]
  },
  {
   "cell_type": "code",
   "execution_count": 64,
   "metadata": {},
   "outputs": [
    {
     "data": {
      "text/plain": [
       "2.438494406240162"
      ]
     },
     "execution_count": 64,
     "metadata": {},
     "output_type": "execute_result"
    }
   ],
   "source": [
    "dataFrame['Maximum'].max()"
   ]
  },
  {
   "cell_type": "markdown",
   "metadata": {},
   "source": [
    "We can thus conclude that the larger the largest difference is found in 0.5 but there isnt a pattern that is followed . We can not say the bigger the lambda the larger the difference and this is shown by the table above"
   ]
  },
  {
   "cell_type": "code",
   "execution_count": 68,
   "metadata": {},
   "outputs": [
    {
     "data": {
      "image/png": "[encoded data removed]",
      "text/plain": [
       "<Figure size 1440x720 with 1 Axes>"
      ]
     },
     "metadata": {
      "needs_background": "light"
     },
     "output_type": "display_data"
    }
   ],
   "source": [
    "plt.figure(figsize=(20,10))\n",
    "plt.plot(trainMSE, label='MSE train data')\n",
    "plt.plot(testMSE, label='MSE test_data')\n",
    "plt.legend()\n",
    "plt.show()"
   ]
  },
  {
   "cell_type": "code",
   "execution_count": null,
   "metadata": {},
   "outputs": [],
   "source": []
  }
 ],
 "metadata": {
  "kernelspec": {
   "display_name": "Python 3",
   "language": "python",
   "name": "python3"
  },
  "language_info": {
   "codemirror_mode": {
    "name": "ipython",
    "version": 3
   },
   "file_extension": ".py",
   "mimetype": "text/x-python",
   "name": "python",
   "nbconvert_exporter": "python",
   "pygments_lexer": "ipython3",
   "version": "3.7.7"
  }
 },
 "nbformat": 4,
 "nbformat_minor": 4
}
