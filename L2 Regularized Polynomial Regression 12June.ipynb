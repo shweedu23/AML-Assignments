{
 "cells": [
  {
   "cell_type": "code",
   "execution_count": 1,
   "metadata": {},
   "outputs": [],
   "source": [
    "import numpy as np\n",
    "import matplotlib.pyplot as plt\n",
    "import math\n",
    "from scipy.stats import distributions as dist\n",
    "import random"
   ]
  },
  {
   "cell_type": "code",
   "execution_count": 2,
   "metadata": {},
   "outputs": [],
   "source": [
    "def RidgeLS(x,y):\n",
    "    I = np.eye(7)\n",
    "    I[0,0] = 0\n",
    "    return (np.linalg.inv(x.T.dot(x)+ λ*I).dot(x.T).dot(y))"
   ]
  },
  {
   "cell_type": "code",
   "execution_count": 3,
   "metadata": {},
   "outputs": [],
   "source": [
    "def DesignMat (x):\n",
    "    x = np.c_[np.ones(n),x]\n",
    "    return(x)"
   ]
  },
  {
   "cell_type": "code",
   "execution_count": 4,
   "metadata": {},
   "outputs": [],
   "source": [
    "n = 200\n",
    "random.seed(123)\n",
    "x = np.random.uniform(0,300,n)\n",
    "x = x[np.argsort(x)]\n",
    "y = 5 + x**1 + x**2 + x**3\n"
   ]
  },
  {
   "cell_type": "code",
   "execution_count": 13,
   "metadata": {},
   "outputs": [],
   "source": [
    "I = np.eye(n)\n",
    "I[0,0] = 0"
   ]
  },
  {
   "cell_type": "code",
   "execution_count": 14,
   "metadata": {},
   "outputs": [],
   "source": [
    "random.seed(123)\n",
    "y_obs = y + np.random.normal(0,900000, n)"
   ]
  },
  {
   "cell_type": "code",
   "execution_count": 15,
   "metadata": {},
   "outputs": [],
   "source": [
    "x_train = x[x<200]\n",
    "x_test = x[x>=200]"
   ]
  },
  {
   "cell_type": "code",
   "execution_count": 16,
   "metadata": {},
   "outputs": [
    {
     "data": {
      "text/plain": [
       "array([[1.00000000e+00, 1.00285876e-01],\n",
       "       [1.00000000e+00, 3.25444007e+00],\n",
       "       [1.00000000e+00, 3.28451334e+00],\n",
       "       [1.00000000e+00, 3.81711431e+00],\n",
       "       [1.00000000e+00, 5.11572642e+00],\n",
       "       [1.00000000e+00, 6.99576153e+00],\n",
       "       [1.00000000e+00, 7.61460490e+00],\n",
       "       [1.00000000e+00, 8.49633988e+00],\n",
       "       [1.00000000e+00, 1.15754541e+01],\n",
       "       [1.00000000e+00, 1.23374328e+01],\n",
       "       [1.00000000e+00, 1.45816415e+01],\n",
       "       [1.00000000e+00, 1.54336244e+01],\n",
       "       [1.00000000e+00, 1.59875588e+01],\n",
       "       [1.00000000e+00, 1.63822842e+01],\n",
       "       [1.00000000e+00, 1.73791403e+01],\n",
       "       [1.00000000e+00, 1.77972495e+01],\n",
       "       [1.00000000e+00, 1.94090237e+01],\n",
       "       [1.00000000e+00, 2.03389320e+01],\n",
       "       [1.00000000e+00, 2.05771591e+01],\n",
       "       [1.00000000e+00, 2.11303728e+01],\n",
       "       [1.00000000e+00, 2.15579490e+01],\n",
       "       [1.00000000e+00, 2.35753485e+01],\n",
       "       [1.00000000e+00, 2.53319277e+01],\n",
       "       [1.00000000e+00, 2.62991219e+01],\n",
       "       [1.00000000e+00, 2.63076719e+01],\n",
       "       [1.00000000e+00, 3.18400722e+01],\n",
       "       [1.00000000e+00, 3.21377789e+01],\n",
       "       [1.00000000e+00, 3.24076948e+01],\n",
       "       [1.00000000e+00, 3.42088143e+01],\n",
       "       [1.00000000e+00, 4.31416961e+01],\n",
       "       [1.00000000e+00, 4.44488724e+01],\n",
       "       [1.00000000e+00, 4.60099609e+01],\n",
       "       [1.00000000e+00, 4.86084525e+01],\n",
       "       [1.00000000e+00, 4.97803780e+01],\n",
       "       [1.00000000e+00, 4.98473356e+01],\n",
       "       [1.00000000e+00, 5.06072960e+01],\n",
       "       [1.00000000e+00, 5.21769586e+01],\n",
       "       [1.00000000e+00, 5.50376051e+01],\n",
       "       [1.00000000e+00, 5.76419648e+01],\n",
       "       [1.00000000e+00, 5.97684347e+01],\n",
       "       [1.00000000e+00, 6.00761411e+01],\n",
       "       [1.00000000e+00, 6.52445695e+01],\n",
       "       [1.00000000e+00, 6.59795365e+01],\n",
       "       [1.00000000e+00, 7.14254698e+01],\n",
       "       [1.00000000e+00, 7.15365433e+01],\n",
       "       [1.00000000e+00, 7.23904724e+01],\n",
       "       [1.00000000e+00, 7.62894562e+01],\n",
       "       [1.00000000e+00, 7.74690372e+01],\n",
       "       [1.00000000e+00, 8.42067244e+01],\n",
       "       [1.00000000e+00, 8.43634816e+01],\n",
       "       [1.00000000e+00, 8.45294939e+01],\n",
       "       [1.00000000e+00, 8.71228541e+01],\n",
       "       [1.00000000e+00, 8.71740817e+01],\n",
       "       [1.00000000e+00, 8.71797868e+01],\n",
       "       [1.00000000e+00, 8.76680952e+01],\n",
       "       [1.00000000e+00, 8.99108823e+01],\n",
       "       [1.00000000e+00, 9.02742562e+01],\n",
       "       [1.00000000e+00, 9.04354471e+01],\n",
       "       [1.00000000e+00, 9.11545320e+01],\n",
       "       [1.00000000e+00, 9.26224266e+01],\n",
       "       [1.00000000e+00, 9.46365626e+01],\n",
       "       [1.00000000e+00, 9.52624406e+01],\n",
       "       [1.00000000e+00, 9.60557679e+01],\n",
       "       [1.00000000e+00, 9.61363301e+01],\n",
       "       [1.00000000e+00, 9.65739612e+01],\n",
       "       [1.00000000e+00, 9.85511394e+01],\n",
       "       [1.00000000e+00, 1.00340814e+02],\n",
       "       [1.00000000e+00, 1.00976002e+02],\n",
       "       [1.00000000e+00, 1.03636394e+02],\n",
       "       [1.00000000e+00, 1.04748711e+02],\n",
       "       [1.00000000e+00, 1.06540227e+02],\n",
       "       [1.00000000e+00, 1.06642683e+02],\n",
       "       [1.00000000e+00, 1.12942600e+02],\n",
       "       [1.00000000e+00, 1.14583736e+02],\n",
       "       [1.00000000e+00, 1.14654201e+02],\n",
       "       [1.00000000e+00, 1.16056694e+02],\n",
       "       [1.00000000e+00, 1.18227788e+02],\n",
       "       [1.00000000e+00, 1.22003538e+02],\n",
       "       [1.00000000e+00, 1.22433803e+02],\n",
       "       [1.00000000e+00, 1.23618992e+02],\n",
       "       [1.00000000e+00, 1.24826027e+02],\n",
       "       [1.00000000e+00, 1.27470202e+02],\n",
       "       [1.00000000e+00, 1.29934976e+02],\n",
       "       [1.00000000e+00, 1.30263047e+02],\n",
       "       [1.00000000e+00, 1.31739381e+02],\n",
       "       [1.00000000e+00, 1.32233537e+02],\n",
       "       [1.00000000e+00, 1.36041519e+02],\n",
       "       [1.00000000e+00, 1.36129703e+02],\n",
       "       [1.00000000e+00, 1.36215558e+02],\n",
       "       [1.00000000e+00, 1.38513145e+02],\n",
       "       [1.00000000e+00, 1.39103843e+02],\n",
       "       [1.00000000e+00, 1.40731074e+02],\n",
       "       [1.00000000e+00, 1.40865994e+02],\n",
       "       [1.00000000e+00, 1.42967401e+02],\n",
       "       [1.00000000e+00, 1.47528931e+02],\n",
       "       [1.00000000e+00, 1.47726709e+02],\n",
       "       [1.00000000e+00, 1.53571101e+02],\n",
       "       [1.00000000e+00, 1.53906390e+02],\n",
       "       [1.00000000e+00, 1.53998372e+02],\n",
       "       [1.00000000e+00, 1.54138019e+02],\n",
       "       [1.00000000e+00, 1.54494844e+02],\n",
       "       [1.00000000e+00, 1.54575389e+02],\n",
       "       [1.00000000e+00, 1.54707650e+02],\n",
       "       [1.00000000e+00, 1.56100364e+02],\n",
       "       [1.00000000e+00, 1.57451287e+02],\n",
       "       [1.00000000e+00, 1.58741368e+02],\n",
       "       [1.00000000e+00, 1.61457135e+02],\n",
       "       [1.00000000e+00, 1.61682099e+02],\n",
       "       [1.00000000e+00, 1.64544668e+02],\n",
       "       [1.00000000e+00, 1.68608184e+02],\n",
       "       [1.00000000e+00, 1.68968884e+02],\n",
       "       [1.00000000e+00, 1.71597825e+02],\n",
       "       [1.00000000e+00, 1.72339484e+02],\n",
       "       [1.00000000e+00, 1.73431560e+02],\n",
       "       [1.00000000e+00, 1.77521273e+02],\n",
       "       [1.00000000e+00, 1.83879223e+02],\n",
       "       [1.00000000e+00, 1.85085658e+02],\n",
       "       [1.00000000e+00, 1.85452210e+02],\n",
       "       [1.00000000e+00, 1.89027995e+02],\n",
       "       [1.00000000e+00, 1.90907034e+02],\n",
       "       [1.00000000e+00, 1.92851973e+02],\n",
       "       [1.00000000e+00, 1.94573984e+02],\n",
       "       [1.00000000e+00, 1.96291143e+02],\n",
       "       [1.00000000e+00, 1.97506629e+02],\n",
       "       [1.00000000e+00, 1.98559563e+02],\n",
       "       [1.00000000e+00, 2.00755492e+02],\n",
       "       [1.00000000e+00, 2.01309576e+02],\n",
       "       [1.00000000e+00, 2.06302589e+02],\n",
       "       [1.00000000e+00, 2.06647156e+02],\n",
       "       [1.00000000e+00, 2.07189518e+02],\n",
       "       [1.00000000e+00, 2.08685897e+02],\n",
       "       [1.00000000e+00, 2.11709239e+02],\n",
       "       [1.00000000e+00, 2.12004336e+02],\n",
       "       [1.00000000e+00, 2.12700466e+02],\n",
       "       [1.00000000e+00, 2.13444611e+02],\n",
       "       [1.00000000e+00, 2.13992282e+02],\n",
       "       [1.00000000e+00, 2.18989451e+02],\n",
       "       [1.00000000e+00, 2.19586810e+02],\n",
       "       [1.00000000e+00, 2.20092873e+02],\n",
       "       [1.00000000e+00, 2.20121176e+02],\n",
       "       [1.00000000e+00, 2.26572232e+02],\n",
       "       [1.00000000e+00, 2.27741995e+02],\n",
       "       [1.00000000e+00, 2.28371886e+02],\n",
       "       [1.00000000e+00, 2.33398152e+02],\n",
       "       [1.00000000e+00, 2.33916251e+02],\n",
       "       [1.00000000e+00, 2.34464481e+02],\n",
       "       [1.00000000e+00, 2.35084861e+02],\n",
       "       [1.00000000e+00, 2.38207976e+02],\n",
       "       [1.00000000e+00, 2.39594987e+02],\n",
       "       [1.00000000e+00, 2.39675671e+02],\n",
       "       [1.00000000e+00, 2.41942669e+02],\n",
       "       [1.00000000e+00, 2.42981033e+02],\n",
       "       [1.00000000e+00, 2.44581827e+02],\n",
       "       [1.00000000e+00, 2.45043797e+02],\n",
       "       [1.00000000e+00, 2.45125924e+02],\n",
       "       [1.00000000e+00, 2.48361161e+02],\n",
       "       [1.00000000e+00, 2.50927011e+02],\n",
       "       [1.00000000e+00, 2.50956954e+02],\n",
       "       [1.00000000e+00, 2.51294364e+02],\n",
       "       [1.00000000e+00, 2.51581576e+02],\n",
       "       [1.00000000e+00, 2.52914886e+02],\n",
       "       [1.00000000e+00, 2.53061798e+02],\n",
       "       [1.00000000e+00, 2.53092868e+02],\n",
       "       [1.00000000e+00, 2.53325560e+02],\n",
       "       [1.00000000e+00, 2.54602674e+02],\n",
       "       [1.00000000e+00, 2.56196010e+02],\n",
       "       [1.00000000e+00, 2.58120341e+02],\n",
       "       [1.00000000e+00, 2.60125002e+02],\n",
       "       [1.00000000e+00, 2.64401186e+02],\n",
       "       [1.00000000e+00, 2.64449632e+02],\n",
       "       [1.00000000e+00, 2.68739539e+02],\n",
       "       [1.00000000e+00, 2.68783189e+02],\n",
       "       [1.00000000e+00, 2.68836613e+02],\n",
       "       [1.00000000e+00, 2.69436854e+02],\n",
       "       [1.00000000e+00, 2.69554949e+02],\n",
       "       [1.00000000e+00, 2.69728272e+02],\n",
       "       [1.00000000e+00, 2.70277778e+02],\n",
       "       [1.00000000e+00, 2.74330894e+02],\n",
       "       [1.00000000e+00, 2.74464027e+02],\n",
       "       [1.00000000e+00, 2.74730281e+02],\n",
       "       [1.00000000e+00, 2.74884982e+02],\n",
       "       [1.00000000e+00, 2.75508032e+02],\n",
       "       [1.00000000e+00, 2.78339116e+02],\n",
       "       [1.00000000e+00, 2.78646136e+02],\n",
       "       [1.00000000e+00, 2.79599587e+02],\n",
       "       [1.00000000e+00, 2.80113959e+02],\n",
       "       [1.00000000e+00, 2.81779572e+02],\n",
       "       [1.00000000e+00, 2.83046727e+02],\n",
       "       [1.00000000e+00, 2.85382862e+02],\n",
       "       [1.00000000e+00, 2.86566718e+02],\n",
       "       [1.00000000e+00, 2.86841049e+02],\n",
       "       [1.00000000e+00, 2.88606449e+02],\n",
       "       [1.00000000e+00, 2.89862638e+02],\n",
       "       [1.00000000e+00, 2.90726982e+02],\n",
       "       [1.00000000e+00, 2.92257465e+02],\n",
       "       [1.00000000e+00, 2.94160441e+02],\n",
       "       [1.00000000e+00, 2.94268456e+02],\n",
       "       [1.00000000e+00, 2.96139058e+02],\n",
       "       [1.00000000e+00, 2.96621780e+02],\n",
       "       [1.00000000e+00, 2.99809411e+02]])"
      ]
     },
     "execution_count": 16,
     "metadata": {},
     "output_type": "execute_result"
    }
   ],
   "source": [
    "X = np.c_[np.ones(n),x]\n",
    "X"
   ]
  },
  {
   "cell_type": "code",
   "execution_count": 40,
   "metadata": {},
   "outputs": [],
   "source": [
    "y_train = y_obs [x< 200]\n",
    "y_test = y_obs [x>=200]"
   ]
  },
  {
   "cell_type": "code",
   "execution_count": 41,
   "metadata": {},
   "outputs": [],
   "source": [
    "n_train = len(x_train)\n",
    "n_test = len(x_test)"
   ]
  },
  {
   "cell_type": "code",
   "execution_count": 42,
   "metadata": {},
   "outputs": [
    {
     "data": {
      "text/plain": [
       "2381196374.3438916"
      ]
     },
     "execution_count": 42,
     "metadata": {},
     "output_type": "execute_result"
    }
   ],
   "source": [
    "λ=np.linspace(0,200,n)\n",
    "θ = np.linalg.inv(x.T.dot(x)+ λ*I).dot(x.T).dot(y_obs)\n",
    "θ"
   ]
  },
  {
   "cell_type": "code",
   "execution_count": 20,
   "metadata": {
    "collapsed": true
   },
   "outputs": [
    {
     "ename": "LinAlgError",
     "evalue": "Singular matrix",
     "output_type": "error",
     "traceback": [
      "\u001b[1;31m---------------------------------------------------------------------------\u001b[0m",
      "\u001b[1;31mLinAlgError\u001b[0m                               Traceback (most recent call last)",
      "\u001b[1;32m<ipython-input-20-32fabb4ddad1>\u001b[0m in \u001b[0;36m<module>\u001b[1;34m\u001b[0m\n\u001b[0;32m      1\u001b[0m \u001b[0mλ\u001b[0m\u001b[1;33m=\u001b[0m\u001b[1;36m0\u001b[0m\u001b[1;33m\u001b[0m\u001b[1;33m\u001b[0m\u001b[0m\n\u001b[1;32m----> 2\u001b[1;33m \u001b[0mθ1\u001b[0m \u001b[1;33m=\u001b[0m \u001b[0mnp\u001b[0m\u001b[1;33m.\u001b[0m\u001b[0mlinalg\u001b[0m\u001b[1;33m.\u001b[0m\u001b[0minv\u001b[0m\u001b[1;33m(\u001b[0m\u001b[0mx\u001b[0m\u001b[1;33m.\u001b[0m\u001b[0mT\u001b[0m\u001b[1;33m.\u001b[0m\u001b[0mdot\u001b[0m\u001b[1;33m(\u001b[0m\u001b[0mx\u001b[0m\u001b[1;33m)\u001b[0m\u001b[1;33m+\u001b[0m \u001b[0mλ\u001b[0m\u001b[1;33m*\u001b[0m\u001b[0mI\u001b[0m\u001b[1;33m)\u001b[0m\u001b[1;33m.\u001b[0m\u001b[0mdot\u001b[0m\u001b[1;33m(\u001b[0m\u001b[0mx\u001b[0m\u001b[1;33m.\u001b[0m\u001b[0mT\u001b[0m\u001b[1;33m)\u001b[0m\u001b[1;33m.\u001b[0m\u001b[0mdot\u001b[0m\u001b[1;33m(\u001b[0m\u001b[0my_obs\u001b[0m\u001b[1;33m)\u001b[0m\u001b[1;33m\u001b[0m\u001b[1;33m\u001b[0m\u001b[0m\n\u001b[0m\u001b[0;32m      3\u001b[0m \u001b[0mθ1\u001b[0m\u001b[1;33m\u001b[0m\u001b[1;33m\u001b[0m\u001b[0m\n",
      "\u001b[1;32m<__array_function__ internals>\u001b[0m in \u001b[0;36minv\u001b[1;34m(*args, **kwargs)\u001b[0m\n",
      "\u001b[1;32m~\\anaconda3\\lib\\site-packages\\numpy\\linalg\\linalg.py\u001b[0m in \u001b[0;36minv\u001b[1;34m(a)\u001b[0m\n\u001b[0;32m    545\u001b[0m     \u001b[0msignature\u001b[0m \u001b[1;33m=\u001b[0m \u001b[1;34m'D->D'\u001b[0m \u001b[1;32mif\u001b[0m \u001b[0misComplexType\u001b[0m\u001b[1;33m(\u001b[0m\u001b[0mt\u001b[0m\u001b[1;33m)\u001b[0m \u001b[1;32melse\u001b[0m \u001b[1;34m'd->d'\u001b[0m\u001b[1;33m\u001b[0m\u001b[1;33m\u001b[0m\u001b[0m\n\u001b[0;32m    546\u001b[0m     \u001b[0mextobj\u001b[0m \u001b[1;33m=\u001b[0m \u001b[0mget_linalg_error_extobj\u001b[0m\u001b[1;33m(\u001b[0m\u001b[0m_raise_linalgerror_singular\u001b[0m\u001b[1;33m)\u001b[0m\u001b[1;33m\u001b[0m\u001b[1;33m\u001b[0m\u001b[0m\n\u001b[1;32m--> 547\u001b[1;33m     \u001b[0mainv\u001b[0m \u001b[1;33m=\u001b[0m \u001b[0m_umath_linalg\u001b[0m\u001b[1;33m.\u001b[0m\u001b[0minv\u001b[0m\u001b[1;33m(\u001b[0m\u001b[0ma\u001b[0m\u001b[1;33m,\u001b[0m \u001b[0msignature\u001b[0m\u001b[1;33m=\u001b[0m\u001b[0msignature\u001b[0m\u001b[1;33m,\u001b[0m \u001b[0mextobj\u001b[0m\u001b[1;33m=\u001b[0m\u001b[0mextobj\u001b[0m\u001b[1;33m)\u001b[0m\u001b[1;33m\u001b[0m\u001b[1;33m\u001b[0m\u001b[0m\n\u001b[0m\u001b[0;32m    548\u001b[0m     \u001b[1;32mreturn\u001b[0m \u001b[0mwrap\u001b[0m\u001b[1;33m(\u001b[0m\u001b[0mainv\u001b[0m\u001b[1;33m.\u001b[0m\u001b[0mastype\u001b[0m\u001b[1;33m(\u001b[0m\u001b[0mresult_t\u001b[0m\u001b[1;33m,\u001b[0m \u001b[0mcopy\u001b[0m\u001b[1;33m=\u001b[0m\u001b[1;32mFalse\u001b[0m\u001b[1;33m)\u001b[0m\u001b[1;33m)\u001b[0m\u001b[1;33m\u001b[0m\u001b[1;33m\u001b[0m\u001b[0m\n\u001b[0;32m    549\u001b[0m \u001b[1;33m\u001b[0m\u001b[0m\n",
      "\u001b[1;32m~\\anaconda3\\lib\\site-packages\\numpy\\linalg\\linalg.py\u001b[0m in \u001b[0;36m_raise_linalgerror_singular\u001b[1;34m(err, flag)\u001b[0m\n\u001b[0;32m     95\u001b[0m \u001b[1;33m\u001b[0m\u001b[0m\n\u001b[0;32m     96\u001b[0m \u001b[1;32mdef\u001b[0m \u001b[0m_raise_linalgerror_singular\u001b[0m\u001b[1;33m(\u001b[0m\u001b[0merr\u001b[0m\u001b[1;33m,\u001b[0m \u001b[0mflag\u001b[0m\u001b[1;33m)\u001b[0m\u001b[1;33m:\u001b[0m\u001b[1;33m\u001b[0m\u001b[1;33m\u001b[0m\u001b[0m\n\u001b[1;32m---> 97\u001b[1;33m     \u001b[1;32mraise\u001b[0m \u001b[0mLinAlgError\u001b[0m\u001b[1;33m(\u001b[0m\u001b[1;34m\"Singular matrix\"\u001b[0m\u001b[1;33m)\u001b[0m\u001b[1;33m\u001b[0m\u001b[1;33m\u001b[0m\u001b[0m\n\u001b[0m\u001b[0;32m     98\u001b[0m \u001b[1;33m\u001b[0m\u001b[0m\n\u001b[0;32m     99\u001b[0m \u001b[1;32mdef\u001b[0m \u001b[0m_raise_linalgerror_nonposdef\u001b[0m\u001b[1;33m(\u001b[0m\u001b[0merr\u001b[0m\u001b[1;33m,\u001b[0m \u001b[0mflag\u001b[0m\u001b[1;33m)\u001b[0m\u001b[1;33m:\u001b[0m\u001b[1;33m\u001b[0m\u001b[1;33m\u001b[0m\u001b[0m\n",
      "\u001b[1;31mLinAlgError\u001b[0m: Singular matrix"
     ]
    }
   ],
   "source": [
    "λ=0\n",
    "θ1 = np.linalg.inv(x.T.dot(x)+ λ*I).dot(x.T).dot(y_obs)\n",
    "θ1"
   ]
  },
  {
   "cell_type": "code",
   "execution_count": null,
   "metadata": {},
   "outputs": [],
   "source": [
    "λ=0.5\n",
    "θ2 = np.linalg.inv(x.T.dot(x)+ λ*I).dot(x.T).dot(y_obs)\n",
    "θ2\n"
   ]
  },
  {
   "cell_type": "code",
   "execution_count": null,
   "metadata": {},
   "outputs": [],
   "source": [
    "λ=10\n",
    "θ3 = np.linalg.inv(x.T.dot(x)+ λ*I).dot(x.T).dot(y_obs)\n",
    "θ3"
   ]
  },
  {
   "cell_type": "code",
   "execution_count": null,
   "metadata": {},
   "outputs": [],
   "source": [
    "λ=20\n",
    "θ4 = np.linalg.inv(x.T.dot(x)+ λ*I).dot(x.T).dot(y_obs)\n",
    "θ4"
   ]
  },
  {
   "cell_type": "code",
   "execution_count": null,
   "metadata": {},
   "outputs": [],
   "source": [
    "λ=30\n",
    "θ5 = np.linalg.inv(x.T.dot(x)+ λ*I).dot(x.T).dot(y_obs)\n",
    "θ5"
   ]
  },
  {
   "cell_type": "code",
   "execution_count": null,
   "metadata": {},
   "outputs": [],
   "source": [
    "λ=80\n",
    "θ6 = np.linalg.inv(x.T.dot(x)+ λ*I).dot(x.T).dot(y_obs)\n",
    "θ6"
   ]
  },
  {
   "cell_type": "code",
   "execution_count": null,
   "metadata": {},
   "outputs": [],
   "source": [
    "λ=100\n",
    "θ7 = np.linalg.inv(x.T.dot(x)+ λ*I).dot(x.T).dot(y_obs)\n",
    "θ7"
   ]
  },
  {
   "cell_type": "code",
   "execution_count": null,
   "metadata": {},
   "outputs": [],
   "source": [
    "λ=200\n",
    "θ8 = np.linalg.inv(x.T.dot(x)+ λ*I).dot(x.T).dot(y_obs)\n",
    "θ8"
   ]
  },
  {
   "cell_type": "code",
   "execution_count": null,
   "metadata": {},
   "outputs": [],
   "source": [
    "plt.plot(x_train,y_train,y_obs,'.')"
   ]
  },
  {
   "cell_type": "code",
   "execution_count": 36,
   "metadata": {},
   "outputs": [
    {
     "data": {
      "text/plain": [
       "4.442057253099475e+22"
      ]
     },
     "execution_count": 36,
     "metadata": {},
     "output_type": "execute_result"
    }
   ],
   "source": [
    "σ = (1/n) * ((y_train - x_train.dot(θ)).T.dot(y_train- x_train.dot(θ)))\n",
    "σ"
   ]
  },
  {
   "cell_type": "code",
   "execution_count": 37,
   "metadata": {},
   "outputs": [
    {
     "data": {
      "text/plain": [
       "array([-1.12902041e+22, -9.95437430e+21, -3.68483010e+22, -2.18909185e+22,\n",
       "       -1.91121076e+22,  1.46901050e+22, -4.78003829e+22,  3.40962043e+22,\n",
       "        2.47979927e+22, -5.56692695e+22, -2.12462991e+22,  4.66583172e+22,\n",
       "        1.34753162e+22,  3.77545747e+22,  2.78698732e+21, -2.93260463e+22,\n",
       "        3.93101216e+22,  1.87617802e+20, -7.62747223e+22, -1.08899616e+22,\n",
       "        2.59667535e+22,  6.02296917e+20,  4.17388399e+22, -6.16065646e+22,\n",
       "        3.37389137e+22,  1.64277515e+22, -8.53185980e+21,  5.68745811e+22,\n",
       "        1.77691410e+22, -2.47376184e+21, -6.52830050e+22, -4.89950781e+22,\n",
       "       -3.15735240e+22, -4.45883962e+22, -4.49541328e+21, -3.04812785e+22,\n",
       "       -5.14204324e+22,  5.11578255e+22,  8.06470736e+22, -3.35027451e+21,\n",
       "       -4.22042627e+21, -1.05691809e+23, -1.44010494e+23, -3.90596790e+22,\n",
       "       -3.19348525e+22,  8.53751087e+22,  1.13797543e+22,  5.40576987e+21,\n",
       "        4.49725054e+22,  3.59611168e+22, -1.34691619e+22, -4.34346934e+22,\n",
       "       -2.60816513e+22,  5.23713359e+22, -4.73689045e+22, -2.09517377e+22,\n",
       "        1.67116198e+22, -6.96477154e+21, -2.47920315e+22,  3.58965267e+21,\n",
       "       -2.68942931e+22, -1.81372438e+22, -9.89002805e+22, -2.93297130e+22,\n",
       "       -1.21628446e+22,  7.97509770e+22, -2.58129563e+22, -1.30303755e+22,\n",
       "       -1.92226049e+22, -1.02649682e+23, -2.77596843e+22,  1.25791560e+22,\n",
       "       -5.17612744e+22, -2.47577856e+22, -5.21642971e+21, -1.38825688e+22,\n",
       "        6.86433286e+21,  1.80110887e+22, -5.18021503e+22, -9.66812651e+21,\n",
       "        8.60733754e+21,  8.49897502e+22,  9.70433239e+21,  7.38175689e+22,\n",
       "       -1.58632865e+22, -2.42937363e+22,  1.11200401e+23,  5.22611628e+22,\n",
       "        3.56442329e+22,  5.50622248e+22, -6.96406903e+22,  5.57353947e+20,\n",
       "        1.15861364e+22,  3.77960608e+22,  7.34484515e+22,  4.47901373e+22,\n",
       "        3.17712143e+22, -3.24601465e+22,  4.30846469e+22, -8.66903465e+22,\n",
       "        1.48409887e+22, -3.15423646e+22, -2.16718911e+22, -2.30383197e+22,\n",
       "       -3.36701451e+22, -4.84969784e+22,  3.64336774e+22, -1.35441215e+22,\n",
       "        1.14066681e+23,  3.54741032e+22,  1.20693503e+23, -1.02555370e+23,\n",
       "        3.38953231e+21, -3.06430206e+22, -3.92746655e+22, -3.87631934e+22,\n",
       "       -5.39786889e+22, -7.34258970e+21, -6.67349087e+22,  2.07715460e+22,\n",
       "       -2.90377317e+22,  1.90943127e+22,  1.67263934e+22, -3.75005901e+21,\n",
       "        4.32100974e+21,  1.60415340e+22,  5.42281764e+22, -1.07423347e+23,\n",
       "        1.07067111e+22,  4.45992545e+21,  1.36563444e+22, -4.05661748e+22,\n",
       "        4.93732038e+22,  2.17385860e+22,  2.53584275e+22, -2.45517959e+22,\n",
       "        7.77171141e+22,  1.58792968e+22,  1.82675388e+21,  6.74732457e+22,\n",
       "       -9.21783921e+20, -1.82023572e+21,  6.37911459e+22, -1.26928235e+22,\n",
       "       -5.03387979e+22, -3.92746342e+22, -1.59852967e+22,  9.68857051e+22,\n",
       "       -5.59369506e+22, -1.89260437e+22,  9.21111745e+20, -1.52541095e+21,\n",
       "       -2.21054598e+22, -1.46965065e+22, -4.99123678e+22, -3.71010599e+22,\n",
       "       -1.74082921e+22,  3.09427779e+22,  3.31988990e+22,  1.91506515e+22,\n",
       "        1.87065004e+22,  1.51365855e+21,  3.07838082e+22,  8.41240212e+22,\n",
       "       -9.43868770e+22, -8.23451303e+22,  2.42201117e+22, -3.20721896e+22,\n",
       "        8.92747935e+21, -2.39601111e+22, -9.81101657e+21, -4.42265912e+22,\n",
       "        1.03932066e+22, -1.37442442e+22,  1.32197792e+22, -1.33026126e+22,\n",
       "       -3.07728184e+22,  6.44400822e+22,  2.46119970e+22,  4.23173554e+22,\n",
       "       -1.66337820e+22, -4.14095625e+22, -1.93329365e+22, -1.01199864e+22,\n",
       "        1.14353089e+21,  1.19891890e+22, -4.36045714e+22, -2.84206809e+18,\n",
       "       -1.98098274e+22, -3.96582257e+21,  4.43428553e+22,  3.92398500e+22,\n",
       "       -2.17327703e+21,  2.55891766e+22, -6.26579762e+22, -2.01357071e+22,\n",
       "       -4.35894475e+21, -9.10548296e+21, -2.97352278e+22, -2.94676406e+22])"
      ]
     },
     "execution_count": 37,
     "metadata": {},
     "output_type": "execute_result"
    }
   ],
   "source": [
    "sdiv = dist.norm(x.dot(θ),σ).rvs(n)\n",
    "sdiv"
   ]
  },
  {
   "cell_type": "code",
   "execution_count": 62,
   "metadata": {},
   "outputs": [
    {
     "data": {
      "image/png": "[encoded data removed]",
      "text/plain": [
       "<Figure size 432x288 with 1 Axes>"
      ]
     },
     "metadata": {
      "needs_background": "light"
     },
     "output_type": "display_data"
    }
   ],
   "source": [
    "plt.plot(x_train,y_train,'.')\n",
    "plt.plot(x_test,y_test,'.')\n",
    "plt.plot(x,y,'.')\n",
    "plt.show()"
   ]
  },
  {
   "cell_type": "code",
   "execution_count": 22,
   "metadata": {},
   "outputs": [
    {
     "data": {
      "text/plain": [
       "9280854163175.912"
      ]
     },
     "execution_count": 22,
     "metadata": {},
     "output_type": "execute_result"
    }
   ],
   "source": [
    "from sklearn.metrics import mean_squared_error \n",
    "\n",
    "#mse for training data\n",
    "mse = mean_squared_error(x_train,y_train)\n",
    "mse"
   ]
  },
  {
   "cell_type": "code",
   "execution_count": 25,
   "metadata": {},
   "outputs": [
    {
     "data": {
      "text/plain": [
       "316843088600744.2"
      ]
     },
     "execution_count": 25,
     "metadata": {},
     "output_type": "execute_result"
    }
   ],
   "source": [
    "#mse for test data\n",
    "mse2 = mean_squared_error(x_test,y_test)\n",
    "mse2"
   ]
  },
  {
   "cell_type": "code",
   "execution_count": 27,
   "metadata": {},
   "outputs": [
    {
     "data": {
      "text/plain": [
       "124616692077264.05"
      ]
     },
     "execution_count": 27,
     "metadata": {},
     "output_type": "execute_result"
    }
   ],
   "source": [
    "mse3 = mean_squared_error(x,y_obs)\n",
    "mse3"
   ]
  },
  {
   "cell_type": "code",
   "execution_count": 48,
   "metadata": {},
   "outputs": [],
   "source": [
    "from sklearn.model_selection import GridSearchCV\n",
    "from sklearn.linear_model import Ridge"
   ]
  },
  {
   "cell_type": "code",
   "execution_count": 57,
   "metadata": {
    "collapsed": true
   },
   "outputs": [
    {
     "ename": "ValueError",
     "evalue": "Invalid parameter lambda for estimator Ridge(alpha=1.0, copy_X=True, fit_intercept=True, max_iter=None,\n      normalize=False, random_state=None, solver='auto', tol=0.001). Check the list of available parameters with `estimator.get_params().keys()`.",
     "output_type": "error",
     "traceback": [
      "\u001b[1;31m---------------------------------------------------------------------------\u001b[0m",
      "\u001b[1;31mValueError\u001b[0m                                Traceback (most recent call last)",
      "\u001b[1;32m<ipython-input-57-483be28b3608>\u001b[0m in \u001b[0;36m<module>\u001b[1;34m\u001b[0m\n\u001b[0;32m      5\u001b[0m \u001b[0mridge_regressor\u001b[0m \u001b[1;33m=\u001b[0m \u001b[0mGridSearchCV\u001b[0m\u001b[1;33m(\u001b[0m\u001b[0mridge\u001b[0m\u001b[1;33m,\u001b[0m\u001b[0mparameters\u001b[0m\u001b[1;33m,\u001b[0m\u001b[0mscoring\u001b[0m\u001b[1;33m=\u001b[0m\u001b[1;34m'neg_mean_squared_error'\u001b[0m\u001b[1;33m,\u001b[0m\u001b[0mcv\u001b[0m\u001b[1;33m=\u001b[0m\u001b[1;36m5\u001b[0m\u001b[1;33m)\u001b[0m\u001b[1;33m\u001b[0m\u001b[1;33m\u001b[0m\u001b[0m\n\u001b[0;32m      6\u001b[0m \u001b[1;33m\u001b[0m\u001b[0m\n\u001b[1;32m----> 7\u001b[1;33m \u001b[0mridge_regressor\u001b[0m\u001b[1;33m.\u001b[0m\u001b[0mfit\u001b[0m\u001b[1;33m(\u001b[0m\u001b[0mx\u001b[0m\u001b[1;33m,\u001b[0m \u001b[0my_obs\u001b[0m\u001b[1;33m)\u001b[0m\u001b[1;33m\u001b[0m\u001b[1;33m\u001b[0m\u001b[0m\n\u001b[0m\u001b[0;32m      8\u001b[0m \u001b[1;33m\u001b[0m\u001b[0m\n\u001b[0;32m      9\u001b[0m \u001b[0mprint\u001b[0m\u001b[1;33m(\u001b[0m\u001b[0mridge_regressor\u001b[0m\u001b[1;33m.\u001b[0m\u001b[0mbest_params\u001b[0m\u001b[1;33m)\u001b[0m\u001b[1;33m\u001b[0m\u001b[1;33m\u001b[0m\u001b[0m\n",
      "\u001b[1;32m~\\anaconda3\\lib\\site-packages\\sklearn\\model_selection\\_search.py\u001b[0m in \u001b[0;36mfit\u001b[1;34m(self, X, y, groups, **fit_params)\u001b[0m\n\u001b[0;32m    708\u001b[0m                 \u001b[1;32mreturn\u001b[0m \u001b[0mresults\u001b[0m\u001b[1;33m\u001b[0m\u001b[1;33m\u001b[0m\u001b[0m\n\u001b[0;32m    709\u001b[0m \u001b[1;33m\u001b[0m\u001b[0m\n\u001b[1;32m--> 710\u001b[1;33m             \u001b[0mself\u001b[0m\u001b[1;33m.\u001b[0m\u001b[0m_run_search\u001b[0m\u001b[1;33m(\u001b[0m\u001b[0mevaluate_candidates\u001b[0m\u001b[1;33m)\u001b[0m\u001b[1;33m\u001b[0m\u001b[1;33m\u001b[0m\u001b[0m\n\u001b[0m\u001b[0;32m    711\u001b[0m \u001b[1;33m\u001b[0m\u001b[0m\n\u001b[0;32m    712\u001b[0m         \u001b[1;31m# For multi-metric evaluation, store the best_index_, best_params_ and\u001b[0m\u001b[1;33m\u001b[0m\u001b[1;33m\u001b[0m\u001b[1;33m\u001b[0m\u001b[0m\n",
      "\u001b[1;32m~\\anaconda3\\lib\\site-packages\\sklearn\\model_selection\\_search.py\u001b[0m in \u001b[0;36m_run_search\u001b[1;34m(self, evaluate_candidates)\u001b[0m\n\u001b[0;32m   1149\u001b[0m     \u001b[1;32mdef\u001b[0m \u001b[0m_run_search\u001b[0m\u001b[1;33m(\u001b[0m\u001b[0mself\u001b[0m\u001b[1;33m,\u001b[0m \u001b[0mevaluate_candidates\u001b[0m\u001b[1;33m)\u001b[0m\u001b[1;33m:\u001b[0m\u001b[1;33m\u001b[0m\u001b[1;33m\u001b[0m\u001b[0m\n\u001b[0;32m   1150\u001b[0m         \u001b[1;34m\"\"\"Search all candidates in param_grid\"\"\"\u001b[0m\u001b[1;33m\u001b[0m\u001b[1;33m\u001b[0m\u001b[0m\n\u001b[1;32m-> 1151\u001b[1;33m         \u001b[0mevaluate_candidates\u001b[0m\u001b[1;33m(\u001b[0m\u001b[0mParameterGrid\u001b[0m\u001b[1;33m(\u001b[0m\u001b[0mself\u001b[0m\u001b[1;33m.\u001b[0m\u001b[0mparam_grid\u001b[0m\u001b[1;33m)\u001b[0m\u001b[1;33m)\u001b[0m\u001b[1;33m\u001b[0m\u001b[1;33m\u001b[0m\u001b[0m\n\u001b[0m\u001b[0;32m   1152\u001b[0m \u001b[1;33m\u001b[0m\u001b[0m\n\u001b[0;32m   1153\u001b[0m \u001b[1;33m\u001b[0m\u001b[0m\n",
      "\u001b[1;32m~\\anaconda3\\lib\\site-packages\\sklearn\\model_selection\\_search.py\u001b[0m in \u001b[0;36mevaluate_candidates\u001b[1;34m(candidate_params)\u001b[0m\n\u001b[0;32m    687\u001b[0m                                \u001b[1;32mfor\u001b[0m \u001b[0mparameters\u001b[0m\u001b[1;33m,\u001b[0m \u001b[1;33m(\u001b[0m\u001b[0mtrain\u001b[0m\u001b[1;33m,\u001b[0m \u001b[0mtest\u001b[0m\u001b[1;33m)\u001b[0m\u001b[1;33m\u001b[0m\u001b[1;33m\u001b[0m\u001b[0m\n\u001b[0;32m    688\u001b[0m                                in product(candidate_params,\n\u001b[1;32m--> 689\u001b[1;33m                                           cv.split(X, y, groups)))\n\u001b[0m\u001b[0;32m    690\u001b[0m \u001b[1;33m\u001b[0m\u001b[0m\n\u001b[0;32m    691\u001b[0m                 \u001b[1;32mif\u001b[0m \u001b[0mlen\u001b[0m\u001b[1;33m(\u001b[0m\u001b[0mout\u001b[0m\u001b[1;33m)\u001b[0m \u001b[1;33m<\u001b[0m \u001b[1;36m1\u001b[0m\u001b[1;33m:\u001b[0m\u001b[1;33m\u001b[0m\u001b[1;33m\u001b[0m\u001b[0m\n",
      "\u001b[1;32m~\\anaconda3\\lib\\site-packages\\joblib\\parallel.py\u001b[0m in \u001b[0;36m__call__\u001b[1;34m(self, iterable)\u001b[0m\n\u001b[0;32m   1002\u001b[0m             \u001b[1;31m# remaining jobs.\u001b[0m\u001b[1;33m\u001b[0m\u001b[1;33m\u001b[0m\u001b[1;33m\u001b[0m\u001b[0m\n\u001b[0;32m   1003\u001b[0m             \u001b[0mself\u001b[0m\u001b[1;33m.\u001b[0m\u001b[0m_iterating\u001b[0m \u001b[1;33m=\u001b[0m \u001b[1;32mFalse\u001b[0m\u001b[1;33m\u001b[0m\u001b[1;33m\u001b[0m\u001b[0m\n\u001b[1;32m-> 1004\u001b[1;33m             \u001b[1;32mif\u001b[0m \u001b[0mself\u001b[0m\u001b[1;33m.\u001b[0m\u001b[0mdispatch_one_batch\u001b[0m\u001b[1;33m(\u001b[0m\u001b[0miterator\u001b[0m\u001b[1;33m)\u001b[0m\u001b[1;33m:\u001b[0m\u001b[1;33m\u001b[0m\u001b[1;33m\u001b[0m\u001b[0m\n\u001b[0m\u001b[0;32m   1005\u001b[0m                 \u001b[0mself\u001b[0m\u001b[1;33m.\u001b[0m\u001b[0m_iterating\u001b[0m \u001b[1;33m=\u001b[0m \u001b[0mself\u001b[0m\u001b[1;33m.\u001b[0m\u001b[0m_original_iterator\u001b[0m \u001b[1;32mis\u001b[0m \u001b[1;32mnot\u001b[0m \u001b[1;32mNone\u001b[0m\u001b[1;33m\u001b[0m\u001b[1;33m\u001b[0m\u001b[0m\n\u001b[0;32m   1006\u001b[0m \u001b[1;33m\u001b[0m\u001b[0m\n",
      "\u001b[1;32m~\\anaconda3\\lib\\site-packages\\joblib\\parallel.py\u001b[0m in \u001b[0;36mdispatch_one_batch\u001b[1;34m(self, iterator)\u001b[0m\n\u001b[0;32m    833\u001b[0m                 \u001b[1;32mreturn\u001b[0m \u001b[1;32mFalse\u001b[0m\u001b[1;33m\u001b[0m\u001b[1;33m\u001b[0m\u001b[0m\n\u001b[0;32m    834\u001b[0m             \u001b[1;32melse\u001b[0m\u001b[1;33m:\u001b[0m\u001b[1;33m\u001b[0m\u001b[1;33m\u001b[0m\u001b[0m\n\u001b[1;32m--> 835\u001b[1;33m                 \u001b[0mself\u001b[0m\u001b[1;33m.\u001b[0m\u001b[0m_dispatch\u001b[0m\u001b[1;33m(\u001b[0m\u001b[0mtasks\u001b[0m\u001b[1;33m)\u001b[0m\u001b[1;33m\u001b[0m\u001b[1;33m\u001b[0m\u001b[0m\n\u001b[0m\u001b[0;32m    836\u001b[0m                 \u001b[1;32mreturn\u001b[0m \u001b[1;32mTrue\u001b[0m\u001b[1;33m\u001b[0m\u001b[1;33m\u001b[0m\u001b[0m\n\u001b[0;32m    837\u001b[0m \u001b[1;33m\u001b[0m\u001b[0m\n",
      "\u001b[1;32m~\\anaconda3\\lib\\site-packages\\joblib\\parallel.py\u001b[0m in \u001b[0;36m_dispatch\u001b[1;34m(self, batch)\u001b[0m\n\u001b[0;32m    752\u001b[0m         \u001b[1;32mwith\u001b[0m \u001b[0mself\u001b[0m\u001b[1;33m.\u001b[0m\u001b[0m_lock\u001b[0m\u001b[1;33m:\u001b[0m\u001b[1;33m\u001b[0m\u001b[1;33m\u001b[0m\u001b[0m\n\u001b[0;32m    753\u001b[0m             \u001b[0mjob_idx\u001b[0m \u001b[1;33m=\u001b[0m \u001b[0mlen\u001b[0m\u001b[1;33m(\u001b[0m\u001b[0mself\u001b[0m\u001b[1;33m.\u001b[0m\u001b[0m_jobs\u001b[0m\u001b[1;33m)\u001b[0m\u001b[1;33m\u001b[0m\u001b[1;33m\u001b[0m\u001b[0m\n\u001b[1;32m--> 754\u001b[1;33m             \u001b[0mjob\u001b[0m \u001b[1;33m=\u001b[0m \u001b[0mself\u001b[0m\u001b[1;33m.\u001b[0m\u001b[0m_backend\u001b[0m\u001b[1;33m.\u001b[0m\u001b[0mapply_async\u001b[0m\u001b[1;33m(\u001b[0m\u001b[0mbatch\u001b[0m\u001b[1;33m,\u001b[0m \u001b[0mcallback\u001b[0m\u001b[1;33m=\u001b[0m\u001b[0mcb\u001b[0m\u001b[1;33m)\u001b[0m\u001b[1;33m\u001b[0m\u001b[1;33m\u001b[0m\u001b[0m\n\u001b[0m\u001b[0;32m    755\u001b[0m             \u001b[1;31m# A job can complete so quickly than its callback is\u001b[0m\u001b[1;33m\u001b[0m\u001b[1;33m\u001b[0m\u001b[1;33m\u001b[0m\u001b[0m\n\u001b[0;32m    756\u001b[0m             \u001b[1;31m# called before we get here, causing self._jobs to\u001b[0m\u001b[1;33m\u001b[0m\u001b[1;33m\u001b[0m\u001b[1;33m\u001b[0m\u001b[0m\n",
      "\u001b[1;32m~\\anaconda3\\lib\\site-packages\\joblib\\_parallel_backends.py\u001b[0m in \u001b[0;36mapply_async\u001b[1;34m(self, func, callback)\u001b[0m\n\u001b[0;32m    207\u001b[0m     \u001b[1;32mdef\u001b[0m \u001b[0mapply_async\u001b[0m\u001b[1;33m(\u001b[0m\u001b[0mself\u001b[0m\u001b[1;33m,\u001b[0m \u001b[0mfunc\u001b[0m\u001b[1;33m,\u001b[0m \u001b[0mcallback\u001b[0m\u001b[1;33m=\u001b[0m\u001b[1;32mNone\u001b[0m\u001b[1;33m)\u001b[0m\u001b[1;33m:\u001b[0m\u001b[1;33m\u001b[0m\u001b[1;33m\u001b[0m\u001b[0m\n\u001b[0;32m    208\u001b[0m         \u001b[1;34m\"\"\"Schedule a func to be run\"\"\"\u001b[0m\u001b[1;33m\u001b[0m\u001b[1;33m\u001b[0m\u001b[0m\n\u001b[1;32m--> 209\u001b[1;33m         \u001b[0mresult\u001b[0m \u001b[1;33m=\u001b[0m \u001b[0mImmediateResult\u001b[0m\u001b[1;33m(\u001b[0m\u001b[0mfunc\u001b[0m\u001b[1;33m)\u001b[0m\u001b[1;33m\u001b[0m\u001b[1;33m\u001b[0m\u001b[0m\n\u001b[0m\u001b[0;32m    210\u001b[0m         \u001b[1;32mif\u001b[0m \u001b[0mcallback\u001b[0m\u001b[1;33m:\u001b[0m\u001b[1;33m\u001b[0m\u001b[1;33m\u001b[0m\u001b[0m\n\u001b[0;32m    211\u001b[0m             \u001b[0mcallback\u001b[0m\u001b[1;33m(\u001b[0m\u001b[0mresult\u001b[0m\u001b[1;33m)\u001b[0m\u001b[1;33m\u001b[0m\u001b[1;33m\u001b[0m\u001b[0m\n",
      "\u001b[1;32m~\\anaconda3\\lib\\site-packages\\joblib\\_parallel_backends.py\u001b[0m in \u001b[0;36m__init__\u001b[1;34m(self, batch)\u001b[0m\n\u001b[0;32m    588\u001b[0m         \u001b[1;31m# Don't delay the application, to avoid keeping the input\u001b[0m\u001b[1;33m\u001b[0m\u001b[1;33m\u001b[0m\u001b[1;33m\u001b[0m\u001b[0m\n\u001b[0;32m    589\u001b[0m         \u001b[1;31m# arguments in memory\u001b[0m\u001b[1;33m\u001b[0m\u001b[1;33m\u001b[0m\u001b[1;33m\u001b[0m\u001b[0m\n\u001b[1;32m--> 590\u001b[1;33m         \u001b[0mself\u001b[0m\u001b[1;33m.\u001b[0m\u001b[0mresults\u001b[0m \u001b[1;33m=\u001b[0m \u001b[0mbatch\u001b[0m\u001b[1;33m(\u001b[0m\u001b[1;33m)\u001b[0m\u001b[1;33m\u001b[0m\u001b[1;33m\u001b[0m\u001b[0m\n\u001b[0m\u001b[0;32m    591\u001b[0m \u001b[1;33m\u001b[0m\u001b[0m\n\u001b[0;32m    592\u001b[0m     \u001b[1;32mdef\u001b[0m \u001b[0mget\u001b[0m\u001b[1;33m(\u001b[0m\u001b[0mself\u001b[0m\u001b[1;33m)\u001b[0m\u001b[1;33m:\u001b[0m\u001b[1;33m\u001b[0m\u001b[1;33m\u001b[0m\u001b[0m\n",
      "\u001b[1;32m~\\anaconda3\\lib\\site-packages\\joblib\\parallel.py\u001b[0m in \u001b[0;36m__call__\u001b[1;34m(self)\u001b[0m\n\u001b[0;32m    254\u001b[0m         \u001b[1;32mwith\u001b[0m \u001b[0mparallel_backend\u001b[0m\u001b[1;33m(\u001b[0m\u001b[0mself\u001b[0m\u001b[1;33m.\u001b[0m\u001b[0m_backend\u001b[0m\u001b[1;33m,\u001b[0m \u001b[0mn_jobs\u001b[0m\u001b[1;33m=\u001b[0m\u001b[0mself\u001b[0m\u001b[1;33m.\u001b[0m\u001b[0m_n_jobs\u001b[0m\u001b[1;33m)\u001b[0m\u001b[1;33m:\u001b[0m\u001b[1;33m\u001b[0m\u001b[1;33m\u001b[0m\u001b[0m\n\u001b[0;32m    255\u001b[0m             return [func(*args, **kwargs)\n\u001b[1;32m--> 256\u001b[1;33m                     for func, args, kwargs in self.items]\n\u001b[0m\u001b[0;32m    257\u001b[0m \u001b[1;33m\u001b[0m\u001b[0m\n\u001b[0;32m    258\u001b[0m     \u001b[1;32mdef\u001b[0m \u001b[0m__len__\u001b[0m\u001b[1;33m(\u001b[0m\u001b[0mself\u001b[0m\u001b[1;33m)\u001b[0m\u001b[1;33m:\u001b[0m\u001b[1;33m\u001b[0m\u001b[1;33m\u001b[0m\u001b[0m\n",
      "\u001b[1;32m~\\anaconda3\\lib\\site-packages\\joblib\\parallel.py\u001b[0m in \u001b[0;36m<listcomp>\u001b[1;34m(.0)\u001b[0m\n\u001b[0;32m    254\u001b[0m         \u001b[1;32mwith\u001b[0m \u001b[0mparallel_backend\u001b[0m\u001b[1;33m(\u001b[0m\u001b[0mself\u001b[0m\u001b[1;33m.\u001b[0m\u001b[0m_backend\u001b[0m\u001b[1;33m,\u001b[0m \u001b[0mn_jobs\u001b[0m\u001b[1;33m=\u001b[0m\u001b[0mself\u001b[0m\u001b[1;33m.\u001b[0m\u001b[0m_n_jobs\u001b[0m\u001b[1;33m)\u001b[0m\u001b[1;33m:\u001b[0m\u001b[1;33m\u001b[0m\u001b[1;33m\u001b[0m\u001b[0m\n\u001b[0;32m    255\u001b[0m             return [func(*args, **kwargs)\n\u001b[1;32m--> 256\u001b[1;33m                     for func, args, kwargs in self.items]\n\u001b[0m\u001b[0;32m    257\u001b[0m \u001b[1;33m\u001b[0m\u001b[0m\n\u001b[0;32m    258\u001b[0m     \u001b[1;32mdef\u001b[0m \u001b[0m__len__\u001b[0m\u001b[1;33m(\u001b[0m\u001b[0mself\u001b[0m\u001b[1;33m)\u001b[0m\u001b[1;33m:\u001b[0m\u001b[1;33m\u001b[0m\u001b[1;33m\u001b[0m\u001b[0m\n",
      "\u001b[1;32m~\\anaconda3\\lib\\site-packages\\sklearn\\model_selection\\_validation.py\u001b[0m in \u001b[0;36m_fit_and_score\u001b[1;34m(estimator, X, y, scorer, train, test, verbose, parameters, fit_params, return_train_score, return_parameters, return_n_test_samples, return_times, return_estimator, error_score)\u001b[0m\n\u001b[0;32m    502\u001b[0m             \u001b[0mcloned_parameters\u001b[0m\u001b[1;33m[\u001b[0m\u001b[0mk\u001b[0m\u001b[1;33m]\u001b[0m \u001b[1;33m=\u001b[0m \u001b[0mclone\u001b[0m\u001b[1;33m(\u001b[0m\u001b[0mv\u001b[0m\u001b[1;33m,\u001b[0m \u001b[0msafe\u001b[0m\u001b[1;33m=\u001b[0m\u001b[1;32mFalse\u001b[0m\u001b[1;33m)\u001b[0m\u001b[1;33m\u001b[0m\u001b[1;33m\u001b[0m\u001b[0m\n\u001b[0;32m    503\u001b[0m \u001b[1;33m\u001b[0m\u001b[0m\n\u001b[1;32m--> 504\u001b[1;33m         \u001b[0mestimator\u001b[0m \u001b[1;33m=\u001b[0m \u001b[0mestimator\u001b[0m\u001b[1;33m.\u001b[0m\u001b[0mset_params\u001b[0m\u001b[1;33m(\u001b[0m\u001b[1;33m**\u001b[0m\u001b[0mcloned_parameters\u001b[0m\u001b[1;33m)\u001b[0m\u001b[1;33m\u001b[0m\u001b[1;33m\u001b[0m\u001b[0m\n\u001b[0m\u001b[0;32m    505\u001b[0m \u001b[1;33m\u001b[0m\u001b[0m\n\u001b[0;32m    506\u001b[0m     \u001b[0mstart_time\u001b[0m \u001b[1;33m=\u001b[0m \u001b[0mtime\u001b[0m\u001b[1;33m.\u001b[0m\u001b[0mtime\u001b[0m\u001b[1;33m(\u001b[0m\u001b[1;33m)\u001b[0m\u001b[1;33m\u001b[0m\u001b[1;33m\u001b[0m\u001b[0m\n",
      "\u001b[1;32m~\\anaconda3\\lib\\site-packages\\sklearn\\base.py\u001b[0m in \u001b[0;36mset_params\u001b[1;34m(self, **params)\u001b[0m\n\u001b[0;32m    234\u001b[0m                                  \u001b[1;34m'Check the list of available parameters '\u001b[0m\u001b[1;33m\u001b[0m\u001b[1;33m\u001b[0m\u001b[0m\n\u001b[0;32m    235\u001b[0m                                  \u001b[1;34m'with `estimator.get_params().keys()`.'\u001b[0m \u001b[1;33m%\u001b[0m\u001b[1;33m\u001b[0m\u001b[1;33m\u001b[0m\u001b[0m\n\u001b[1;32m--> 236\u001b[1;33m                                  (key, self))\n\u001b[0m\u001b[0;32m    237\u001b[0m \u001b[1;33m\u001b[0m\u001b[0m\n\u001b[0;32m    238\u001b[0m             \u001b[1;32mif\u001b[0m \u001b[0mdelim\u001b[0m\u001b[1;33m:\u001b[0m\u001b[1;33m\u001b[0m\u001b[1;33m\u001b[0m\u001b[0m\n",
      "\u001b[1;31mValueError\u001b[0m: Invalid parameter lambda for estimator Ridge(alpha=1.0, copy_X=True, fit_intercept=True, max_iter=None,\n      normalize=False, random_state=None, solver='auto', tol=0.001). Check the list of available parameters with `estimator.get_params().keys()`."
     ]
    }
   ],
   "source": [
    "#incomplete...could not figure out how to make it work\n",
    "\n",
    "ridge= Ridge()\n",
    "\n",
    "parameters = {'lambda':[0,0.5, 10, 20, 30, 80, 100, 200]}\n",
    "\n",
    "ridge_regressor = GridSearchCV(ridge,parameters,scoring='neg_mean_squared_error',cv=5)\n",
    "\n",
    "ridge_regressor.fit(x, y_obs)\n",
    "\n",
    "print(ridge_regressor.best_params)\n",
    "print(ridge_regressor.best_scor)"
   ]
  },
  {
   "cell_type": "code",
   "execution_count": null,
   "metadata": {},
   "outputs": [],
   "source": []
  }
 ],
 "metadata": {
  "kernelspec": {
   "display_name": "Python 3",
   "language": "python",
   "name": "python3"
  },
  "language_info": {
   "codemirror_mode": {
    "name": "ipython",
    "version": 3
   },
   "file_extension": ".py",
   "mimetype": "text/x-python",
   "name": "python",
   "nbconvert_exporter": "python",
   "pygments_lexer": "ipython3",
   "version": "3.7.6"
  }
 },
 "nbformat": 4,
 "nbformat_minor": 4
}
